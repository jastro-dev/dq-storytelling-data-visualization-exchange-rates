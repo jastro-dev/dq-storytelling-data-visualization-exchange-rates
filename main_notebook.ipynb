{
 "cells": [
  {
   "cell_type": "code",
   "execution_count": null,
   "metadata": {},
   "outputs": [],
   "source": [
    "import matplotlib.pyplot as plt\n",
    "import numpy as np\n",
    "import pandas as pd\n",
    "import seaborn as sns\n",
    "from matplotlib.style import use\n",
    "\n",
    "use('fivethirtyeight')"
   ]
  },
  {
   "cell_type": "code",
   "execution_count": null,
   "metadata": {},
   "outputs": [],
   "source": [
    "# Load dataset\n",
    "exchange_rates = pd.read_csv('euro-daily-hist_1999_2020.csv')"
   ]
  },
  {
   "cell_type": "code",
   "execution_count": null,
   "metadata": {},
   "outputs": [],
   "source": [
    "# First 5 rows\n",
    "exchange_rates.head()"
   ]
  },
  {
   "cell_type": "code",
   "execution_count": null,
   "metadata": {},
   "outputs": [],
   "source": [
    "# Last 5 rows\n",
    "exchange_rates.tail()"
   ]
  },
  {
   "cell_type": "code",
   "execution_count": null,
   "metadata": {},
   "outputs": [],
   "source": [
    "# Show dataset info\n",
    "exchange_rates.info()"
   ]
  },
  {
   "cell_type": "code",
   "execution_count": null,
   "metadata": {},
   "outputs": [],
   "source": [
    "# Null values\n",
    "exchange_rates.isnull().sum()"
   ]
  },
  {
   "cell_type": "code",
   "execution_count": null,
   "metadata": {},
   "outputs": [],
   "source": [
    "# Rename columns to more readable format - remove special characters and spaces\n",
    "exchange_rates.rename(columns={'[US dollar ]': 'US_dollar',\n",
    "                               'Period\\\\Unit:': 'Time'},\n",
    "                      inplace=True)\n",
    "\n",
    "# Convert Time column to datetime format for proper date handling\n",
    "exchange_rates['Time'] = pd.to_datetime(exchange_rates['Time'])\n",
    "\n",
    "# Sort the dataframe by Time column in ascending order\n",
    "exchange_rates.sort_values('Time', inplace=True)\n",
    "\n",
    "# Reset index after sorting to maintain clean sequential numbering\n",
    "exchange_rates.reset_index(drop=True, inplace=True)"
   ]
  },
  {
   "cell_type": "code",
   "execution_count": null,
   "metadata": {},
   "outputs": [],
   "source": [
    "# Create a new DataFrame containing only the Time and US_dollar columns from exchange_rates\n",
    "euro_to_dollar = exchange_rates[['Time', 'US_dollar']]"
   ]
  },
  {
   "cell_type": "code",
   "execution_count": null,
   "metadata": {},
   "outputs": [],
   "source": [
    "euro_to_dollar['US_dollar'].value_counts()"
   ]
  },
  {
   "cell_type": "code",
   "execution_count": null,
   "metadata": {},
   "outputs": [],
   "source": [
    "# Drop rows where '-' appears in US_dollar column\n",
    "euro_to_dollar = euro_to_dollar[euro_to_dollar['US_dollar'] != '-']\n",
    "euro_to_dollar.head()"
   ]
  },
  {
   "cell_type": "code",
   "execution_count": null,
   "metadata": {},
   "outputs": [],
   "source": [
    "# Change US_dollar column to float\n",
    "euro_to_dollar['US_dollar'] = pd.to_numeric(euro_to_dollar['US_dollar'])\n",
    "euro_to_dollar['US_dollar'].dtype"
   ]
  },
  {
   "cell_type": "code",
   "execution_count": null,
   "metadata": {},
   "outputs": [],
   "source": [
    "# Plot Time and US_dollar column\n",
    "plt.plot(euro_to_dollar['Time'], euro_to_dollar['US_dollar'])\n",
    "plt.show()"
   ]
  },
  {
   "cell_type": "code",
   "execution_count": null,
   "metadata": {},
   "outputs": [],
   "source": [
    "# Calculate rolling mean for 30 days and assign to rolling_mean column\n",
    "euro_to_dollar['rolling_mean'] = euro_to_dollar['US_dollar'].rolling(30).mean()"
   ]
  },
  {
   "cell_type": "code",
   "execution_count": null,
   "metadata": {},
   "outputs": [],
   "source": [
    "euro_to_dollar"
   ]
  },
  {
   "cell_type": "code",
   "execution_count": null,
   "metadata": {},
   "outputs": [],
   "source": [
    "# Plot rolling mean and time\n",
    "euro_to_dollar.plot(x='Time', y='rolling_mean')\n",
    "plt.show()"
   ]
  },
  {
   "cell_type": "code",
   "execution_count": null,
   "metadata": {},
   "outputs": [],
   "source": [
    "# Filter data to separate dataframes for respective timeframe (covid, pre-covid)\n",
    "euro_to_dollar_covid = euro_to_dollar[euro_to_dollar['Time'] >= '2020-01-01']\n",
    "euro_to_dollar_pre_covid = euro_to_dollar[~(euro_to_dollar['Time'] >= '2020-01-01') & (euro_to_dollar['Time'] >= '2016-01-01')]"
   ]
  },
  {
   "cell_type": "code",
   "execution_count": null,
   "metadata": {},
   "outputs": [],
   "source": [
    "# Calculate percent gain from first entry in euro_to_dollar_covid to last entry\n",
    "percent_gain_covid = ((euro_to_dollar_covid['US_dollar'].iloc[-1] - euro_to_dollar_covid['US_dollar'].iloc[0]) / euro_to_dollar_covid['US_dollar'].iloc[0]) * 100\n",
    "\n",
    "# Get max USD value within covid dataframe\n",
    "max_covid = euro_to_dollar_covid['US_dollar'].max()"
   ]
  },
  {
   "cell_type": "code",
   "execution_count": null,
   "metadata": {},
   "outputs": [],
   "source": [
    "# Print percent gain\n",
    "print(percent_gain_covid)"
   ]
  },
  {
   "cell_type": "code",
   "execution_count": null,
   "metadata": {},
   "outputs": [],
   "source": [
    "# Create a figure with one subplot and set the size\n",
    "fig, ax = plt.subplots(1, 1, figsize=(15, 5))\n",
    "\n",
    "# Remove tick marks from all sides of the plot\n",
    "ax.tick_params(bottom=False, top=False, left=False, right=False)\n",
    "\n",
    "# Remove the border (spines) from all sides of the plot\n",
    "for location in ['top', 'bottom', 'left', 'right']:\n",
    "    ax.spines[location].set_visible(False)\n",
    "\n",
    "# Plot pre-COVID data with reduced opacity\n",
    "ax.plot(euro_to_dollar_pre_covid['Time'], euro_to_dollar_pre_covid['rolling_mean'], alpha=0.5, c='#af0b1e')\n",
    "\n",
    "# Plot COVID period data with full opacity\n",
    "ax.plot(euro_to_dollar_covid['Time'], euro_to_dollar_covid['rolling_mean'], c='#af0b1e')\n",
    "\n",
    "# Get the initial date and exchange rate value for COVID period\n",
    "x_pos = euro_to_dollar_covid['Time'].iloc[0]  # First date\n",
    "y_pos = euro_to_dollar_covid['rolling_mean'].iloc[0]  # Corresponding y-value\n",
    "\n",
    "# Add grey shaded region to highlight COVID period\n",
    "ax.axvspan(xmin=18262, xmax=18630, ymin=0.09, alpha=0.3, color='grey')\n",
    "\n",
    "# Add main title and subtitle to the plot\n",
    "ax.text(16600, y_pos + 0.165, 'Euro-USD rate increased 9.4% during the COVID-19 pandemic', size=24, weight='bold')\n",
    "ax.text(16605, y_pos + 0.15, 'Euro-USD Exchange Rates Between 2016 and 2021', size=16)\n",
    "\n",
    "# Add footer with copyright and source information\n",
    "ax.text(\n",
    "    16600.0,\n",
    "    1.015,\n",
    "    '©JASTRO-DEV' + ' ' * 238 + 'Source: European Central Bank',\n",
    "    color='#f0f0f0',\n",
    "    backgroundcolor='#4d4d4d',\n",
    "    size=10,\n",
    ")\n",
    "\n",
    "# Display the plot\n",
    "plt.savefig('covid_exchange_rate_line_plot.png', bbox_inches='tight', dpi=200, pad_inches=0.1)\n",
    "plt.show()"
   ]
  }
 ],
 "metadata": {
  "kernelspec": {
   "display_name": "myenv",
   "language": "python",
   "name": "python3"
  },
  "language_info": {
   "codemirror_mode": {
    "name": "ipython",
    "version": 3
   },
   "file_extension": ".py",
   "mimetype": "text/x-python",
   "name": "python",
   "nbconvert_exporter": "python",
   "pygments_lexer": "ipython3",
   "version": "3.12.7"
  }
 },
 "nbformat": 4,
 "nbformat_minor": 4
}
